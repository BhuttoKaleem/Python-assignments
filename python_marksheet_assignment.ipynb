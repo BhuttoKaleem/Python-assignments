{
 "cells": [
  {
   "cell_type": "code",
   "execution_count": 16,
   "metadata": {},
   "outputs": [
    {
     "name": "stdout",
     "output_type": "stream",
     "text": [
      "52\n",
      "Grade C\n"
     ]
    }
   ],
   "source": [
    "total = 300;\n",
    "english = 40;\n",
    "islamiat = 50;\n",
    "maths = 67;\n",
    "obtained = english+islamiat+maths;\n",
    "percentage = obtained*100/total;\n",
    "print(int(percentage));\n",
    "if percentage<100 and percentage >=80:  \n",
    "    print(\"Grade A+\");\n",
    "elif percentage<80 and percentage>=70:\n",
    "    print(\"Grade A\");\n",
    "elif percentage<70 and percentage>=60:\n",
    "    print(\"Grade B\");\n",
    "elif percentage<60 and percentage>=50:\n",
    "    print(\"Grade C\");\n",
    "elif percentage<50 and percentage>=40:\n",
    "    print(\"Grade D\");\n",
    "elif percentage<40 and percentage>=33:\n",
    "    print(\"Grade E\");\n",
    "elif percentage>100 and percentage<0:\n",
    "    print(\"Inappropriate Input\");\n",
    "\n"
   ]
  },
  {
   "cell_type": "code",
   "execution_count": 10,
   "metadata": {},
   "outputs": [
    {
     "ename": "SyntaxError",
     "evalue": "invalid syntax (<ipython-input-10-6087cdae54d6>, line 1)",
     "output_type": "error",
     "traceback": [
      "\u001b[1;36m  File \u001b[1;32m\"<ipython-input-10-6087cdae54d6>\"\u001b[1;36m, line \u001b[1;32m1\u001b[0m\n\u001b[1;33m    80 to 100 A+\u001b[0m\n\u001b[1;37m        ^\u001b[0m\n\u001b[1;31mSyntaxError\u001b[0m\u001b[1;31m:\u001b[0m invalid syntax\n"
     ]
    }
   ],
   "source": [
    "80 to 100 A+\n",
    "70 80A\n",
    "60 70 b\n",
    "50 60 c\n",
    "40 50 d\n",
    "33 40 e\n",
    "33< fail\n",
    ">100 or <0 inappropriate"
   ]
  },
  {
   "cell_type": "code",
   "execution_count": 30,
   "metadata": {},
   "outputs": [
    {
     "name": "stdout",
     "output_type": "stream",
     "text": [
      "Enter english marks88\n",
      "Enter islamiat marks56\n",
      "Enter maths marks67\n",
      "70\n",
      "Grade A\n"
     ]
    }
   ],
   "source": [
    "\"\"\"Learning Python from jawan pakistan \n",
    "here am exploring conditional stateme\"\"\"\n",
    "total = 300;\n",
    "english = int(input(\"Enter english marks: \"));\n",
    "islamiat = int(input(\"Enter islamiat marks: \"));\n",
    "maths = int(input(\"Enter maths marks: \"));\n",
    "obtained = english+islamiat+maths;\n",
    "percentage = obtained*100/total;\n",
    "print(int(percentage));\n",
    "if percentage<100 and percentage >=80:  \n",
    "    print(\"Grade A+\");\n",
    "elif percentage<80 and percentage>=70:\n",
    "    print(\"Grade A\");\n",
    "elif percentage<70 and percentage>=60:\n",
    "    print(\"Grade B\");\n",
    "elif percentage<60 and percentage>=50:\n",
    "    print(\"Grade C\");\n",
    "elif percentage<50 and percentage>=40:\n",
    "    print(\"Grade D\");\n",
    "elif percentage<40 and percentage>=33:\n",
    "    print(\"Grade E\");\n",
    "elif percentage>100 and percentage<0:\n",
    "    print(\"Inappropriate Input\");"
   ]
  }
 ],
 "metadata": {
  "kernelspec": {
   "display_name": "Python 3",
   "language": "python",
   "name": "python3"
  },
  "language_info": {
   "codemirror_mode": {
    "name": "ipython",
    "version": 3
   },
   "file_extension": ".py",
   "mimetype": "text/x-python",
   "name": "python",
   "nbconvert_exporter": "python",
   "pygments_lexer": "ipython3",
   "version": "3.7.4"
  }
 },
 "nbformat": 4,
 "nbformat_minor": 2
}
